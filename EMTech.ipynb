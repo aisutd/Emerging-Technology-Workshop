{
  "nbformat": 4,
  "nbformat_minor": 0,
  "metadata": {
    "colab": {
      "name": "EMTech.ipynb",
      "provenance": []
    },
    "kernelspec": {
      "name": "python3",
      "display_name": "Python 3"
    }
  },
  "cells": [
    {
      "cell_type": "code",
      "metadata": {
        "id": "1yUxZ8R0cKCZ",
        "colab_type": "code",
        "colab": {}
      },
      "source": [
        "import pandas as pd\n",
        "from sklearn.preprocessing import MinMaxScaler\n",
        "from sklearn.model_selection import train_test_split\n",
        "import tensorflow as tf\n",
        "import matplotlib.pyplot as plt\n"
      ],
      "execution_count": 0,
      "outputs": []
    },
    {
      "cell_type": "code",
      "metadata": {
        "id": "p-uHSgN4cXeB",
        "colab_type": "code",
        "colab": {
          "base_uri": "https://localhost:8080/",
          "height": 425
        },
        "outputId": "d2fad421-9928-4637-af08-3db2209782b9"
      },
      "source": [
        "datafile = 'bitcoin.csv'\n",
        "prices = pd.read_csv(datafile, index_col=0)\n",
        "\n",
        "# data originally in reverse cronological order\n",
        "#   so correct by reversing the rows\n",
        "prices = prices[::-1]\n",
        "\n",
        "print(prices[:10])\n",
        "print(prices[-10:])"
      ],
      "execution_count": 3,
      "outputs": [
        {
          "output_type": "stream",
          "text": [
            "                Open    High     Low   Close Volume     Market Cap\n",
            "Date                                                              \n",
            "Apr 28, 2013  135.30  135.98  132.10  134.21      -  1,500,520,000\n",
            "Apr 29, 2013  134.44  147.49  134.00  144.54      -  1,491,160,000\n",
            "Apr 30, 2013  144.00  146.93  134.05  139.00      -  1,597,780,000\n",
            "May 01, 2013  139.00  139.89  107.72  116.99      -  1,542,820,000\n",
            "May 02, 2013  116.38  125.60   92.28  105.21      -  1,292,190,000\n",
            "May 03, 2013  106.25  108.13   79.10   97.75      -  1,180,070,000\n",
            "May 04, 2013   98.10  115.00   92.50  112.50      -  1,089,890,000\n",
            "May 05, 2013  112.90  118.80  107.14  115.91      -  1,254,760,000\n",
            "May 06, 2013  115.98  124.66  106.64  112.30      -  1,289,470,000\n",
            "May 07, 2013  112.25  113.44   97.70  111.50      -  1,248,470,000\n",
            "                 Open     High      Low    Close         Volume      Market Cap\n",
            "Date                                                                           \n",
            "Jul 29, 2017  2807.02  2808.76  2692.80  2726.45    803,746,000  46,246,700,000\n",
            "Jul 30, 2017  2724.39  2758.53  2644.85  2757.18    705,943,000  44,890,700,000\n",
            "Jul 31, 2017  2763.24  2889.62  2720.61  2875.34    860,575,000  45,535,800,000\n",
            "Aug 01, 2017  2871.30  2921.35  2685.61  2718.26  1,324,670,000  47,321,800,000\n",
            "Aug 02, 2017  2727.13  2762.53  2668.59  2710.67  1,094,950,000  44,950,800,000\n",
            "Aug 03, 2017  2709.56  2813.31  2685.14  2804.73    804,797,000  44,666,400,000\n",
            "Aug 04, 2017  2806.93  2899.33  2743.72  2895.89  1,002,120,000  46,276,200,000\n",
            "Aug 05, 2017  2897.63  3290.01  2874.83  3252.91  1,945,700,000  47,778,200,000\n",
            "Aug 06, 2017  3257.61  3293.29  3155.60  3213.94  1,105,030,000  53,720,900,000\n",
            "Aug 07, 2017  3212.78  3397.68  3180.89  3378.94  1,482,280,000  52,987,300,000\n"
          ],
          "name": "stdout"
        }
      ]
    },
    {
      "cell_type": "code",
      "metadata": {
        "id": "PJAxZTMwcqjS",
        "colab_type": "code",
        "colab": {
          "base_uri": "https://localhost:8080/",
          "height": 153
        },
        "outputId": "a5c23ae9-0217-4ac7-a821-1aa9ee8c49ca"
      },
      "source": [
        "\n",
        "def naive_preparation(dataframe):\n",
        "  ''' Naive implementation of cleaning this dataset '''\n",
        "\n",
        "  # remove the volumn column since it contains null values\n",
        "  new_dataframe = dataframe.drop(columns=['Volume'])\n",
        "\n",
        "  # 'Market Cap' column contains strings with commas\n",
        "  #   remove commas and convert each entry to int\n",
        "  market_cap_column = new_dataframe['Market Cap']\n",
        "  new_dataframe['Market Cap'] = [int(market_cap.replace(',', '')) \\\n",
        "                                 for market_cap in market_cap_column]\n",
        "  return new_dataframe\n",
        "\n",
        "prices_dataframe = naive_preparation(prices)\n",
        "print(prices_dataframe.head())\n",
        "print(prices_dataframe.shape)\n"
      ],
      "execution_count": 19,
      "outputs": [
        {
          "output_type": "stream",
          "text": [
            "                Open    High     Low   Close  Market Cap\n",
            "Date                                                    \n",
            "Apr 28, 2013  135.30  135.98  132.10  134.21  1500520000\n",
            "Apr 29, 2013  134.44  147.49  134.00  144.54  1491160000\n",
            "Apr 30, 2013  144.00  146.93  134.05  139.00  1597780000\n",
            "May 01, 2013  139.00  139.89  107.72  116.99  1542820000\n",
            "May 02, 2013  116.38  125.60   92.28  105.21  1292190000\n",
            "(1563, 5)\n"
          ],
          "name": "stdout"
        }
      ]
    },
    {
      "cell_type": "code",
      "metadata": {
        "id": "d36F8wwXdFd0",
        "colab_type": "code",
        "colab": {
          "base_uri": "https://localhost:8080/",
          "height": 312
        },
        "outputId": "0f23ab15-6bf8-43f9-97bd-7074fab2062f"
      },
      "source": [
        "\n",
        "fig, ax = plt.subplots()\n",
        "ax.xaxis.set_major_locator(plt.MaxNLocator(4))\n",
        "plt.plot(prices_dataframe['Open'])\n",
        "plt.xlabel('Date')\n",
        "plt.ylabel('Opening Price')\n",
        "plt.title('Opening Price of Bitcoin for Each Day')\n"
      ],
      "execution_count": 20,
      "outputs": [
        {
          "output_type": "execute_result",
          "data": {
            "text/plain": [
              "Text(0.5, 1.0, 'Opening Price of Bitcoin for Each Day')"
            ]
          },
          "metadata": {
            "tags": []
          },
          "execution_count": 20
        },
        {
          "output_type": "display_data",
          "data": {
            "image/png": "[encoded data removed]",
            "text/plain": [
              "<Figure size 432x288 with 1 Axes>"
            ]
          },
          "metadata": {
            "tags": []
          }
        }
      ]
    },
    {
      "cell_type": "code",
      "metadata": {
        "id": "vsYbVamteM8E",
        "colab_type": "code",
        "colab": {
          "base_uri": "https://localhost:8080/",
          "height": 153
        },
        "outputId": "b4d084c8-fcfc-435c-9fbf-891749268551"
      },
      "source": [
        "# scalers to normalize data\n",
        "prices_scaler = MinMaxScaler(feature_range=(0, 1))\n",
        "market_cap_scaler = MinMaxScaler(feature_range=(0, 1))\n",
        "\n",
        "\n",
        "values = prices_dataframe.values\n",
        "print(values)\n",
        "print(values.shape)\n"
      ],
      "execution_count": 23,
      "outputs": [
        {
          "output_type": "stream",
          "text": [
            "[[1.35300e+02 1.35980e+02 1.32100e+02 1.34210e+02 1.50052e+09]\n",
            " [1.34440e+02 1.47490e+02 1.34000e+02 1.44540e+02 1.49116e+09]\n",
            " [1.44000e+02 1.46930e+02 1.34050e+02 1.39000e+02 1.59778e+09]\n",
            " ...\n",
            " [2.89763e+03 3.29001e+03 2.87483e+03 3.25291e+03 4.77782e+10]\n",
            " [3.25761e+03 3.29329e+03 3.15560e+03 3.21394e+03 5.37209e+10]\n",
            " [3.21278e+03 3.39768e+03 3.18089e+03 3.37894e+03 5.29873e+10]]\n",
            "(1563, 5)\n"
          ],
          "name": "stdout"
        }
      ]
    },
    {
      "cell_type": "code",
      "metadata": {
        "id": "HHMuOeSwhhsW",
        "colab_type": "code",
        "colab": {
          "base_uri": "https://localhost:8080/",
          "height": 255
        },
        "outputId": "ac99719c-83c5-428a-f65b-8aa8a9aca15d"
      },
      "source": [
        "# reshape to (-1, 1) since that's what is expected for MinMaxScaler\n",
        "prices = values[:, :-1].reshape(-1, 1)\n",
        "market_cap = values[:, -1].reshape(-1, 1)\n",
        "\n",
        "prices_values_shape = values[:, :-1].shape\n",
        "\n",
        "# necessary to reshape prices_values since \n",
        "values[:, :-1] = prices_scaler.fit_transform(prices).reshape(prices_values_shape)\n",
        "values[:, -1] = market_cap_scaler.fit_transform(market_cap).flatten()\n",
        "\n",
        "# x and y are the input and output for machine learning model\n",
        "x = values[:-1]\n",
        "y = values[1:, 0]\n",
        "\n",
        "print('Printing x[:10]:')\n",
        "print(x[:10])\n",
        "print('Printing y[:10]:')\n",
        "print(y[:10])\n"
      ],
      "execution_count": 29,
      "outputs": [
        {
          "output_type": "stream",
          "text": [
            "Printing x[:10]:\n",
            "[[0.02093843 0.02114251 0.01997809 0.02061132 0.01362377]\n",
            " [0.02068034 0.02459673 0.02054829 0.02371142 0.01344698]\n",
            " [0.02354936 0.02442867 0.0205633  0.02204883 0.01546089]\n",
            " [0.02204883 0.02231592 0.01266149 0.01544348 0.01442277]\n",
            " [0.01526042 0.0180274  0.00802785 0.01190823 0.00968869]\n",
            " [0.01222034 0.01278454 0.00407245 0.00966943 0.00757088]\n",
            " [0.00977447 0.01484627 0.00809387 0.014096   0.0058675 ]\n",
            " [0.01421605 0.01598668 0.01248743 0.01511937 0.00898168]\n",
            " [0.01514037 0.0177453  0.01233738 0.01403598 0.00963731]\n",
            " [0.01402098 0.0143781  0.00965443 0.0137959  0.00886287]]\n",
            "Printing y[:10]:\n",
            "[0.02068034 0.02354936 0.02204883 0.01526042 0.01222034 0.00977447\n",
            " 0.01421605 0.01514037 0.01402098 0.0132257 ]\n"
          ],
          "name": "stdout"
        }
      ]
    },
    {
      "cell_type": "code",
      "metadata": {
        "id": "2Dj_d6THio8a",
        "colab_type": "code",
        "colab": {
          "base_uri": "https://localhost:8080/",
          "height": 799
        },
        "outputId": "39d74152-688d-42fd-c4e2-e9b4d79c6fd9"
      },
      "source": [
        "train_x, test_x, train_y, test_y = train_test_split(x, y, test_size=0.2, \\\n",
        "                                                    random_state=42)\n",
        "\n",
        "# reshape to properly feed into machine learning model\n",
        "train_x = train_x.reshape(train_x.shape[0], train_x.shape[1], 1)\n",
        "train_y = train_y.reshape(train_y.shape[0], 1)\n",
        "test_x = test_x.reshape(test_x.shape[0], test_x.shape[1], 1)\n",
        "test_y = test_y.reshape(test_y.shape[0], 1)\n",
        "\n",
        "print('Printing train_x:')\n",
        "print(train_x)\n",
        "print('Printing train_y:')\n",
        "print(train_y)\n"
      ],
      "execution_count": 31,
      "outputs": [
        {
          "output_type": "stream",
          "text": [
            "Printing train_x:\n",
            "[[[0.15372057]\n",
            "  [0.15458188]\n",
            "  [0.15345348]\n",
            "  [0.15429077]\n",
            "  [0.15805922]]\n",
            "\n",
            " [[0.16335999]\n",
            "  [0.16367811]\n",
            "  [0.16287982]\n",
            "  [0.16316792]\n",
            "  [0.16816072]]\n",
            "\n",
            " [[0.0490134 ]\n",
            "  [0.04944555]\n",
            "  [0.04898939]\n",
            "  [0.04927149]\n",
            "  [0.04692213]]\n",
            "\n",
            " ...\n",
            "\n",
            " [[0.04941854]\n",
            "  [0.05120118]\n",
            "  [0.04919046]\n",
            "  [0.05086506]\n",
            "  [0.04866141]]\n",
            "\n",
            " [[0.36026589]\n",
            "  [0.36892097]\n",
            "  [0.36024789]\n",
            "  [0.3647945 ]\n",
            "  [0.37491553]]\n",
            "\n",
            " [[0.12229341]\n",
            "  [0.14043185]\n",
            "  [0.12219438]\n",
            "  [0.13940249]\n",
            "  [0.12459993]]]\n",
            "Printing train_y:\n",
            "[[0.15423075]\n",
            " [0.16317393]\n",
            " [0.04927149]\n",
            " ...\n",
            " [0.05082004]\n",
            " [0.36503459]\n",
            " [0.13863422]]\n"
          ],
          "name": "stdout"
        }
      ]
    },
    {
      "cell_type": "markdown",
      "metadata": {
        "id": "xpTqgxOuiyZE",
        "colab_type": "text"
      },
      "source": [
        "Short Explanation for LSTM vs Feed Forward Neural Netword\n",
        "\n",
        "Ex. Predicting the characters for string in \"hello\". \\\n",
        "x = 'hell'\\\n",
        "y = 'ello' \\\n",
        "h -> e \\\n",
        "e -> l \\\n",
        "l -> l \\\n",
        "l -> o \\\n",
        "Note that the predicted value for second 'l' is different from the first one since the LSTM noticed context while a typical Artificial Neural Network will predict the same for input 'l'.\n",
        "\n"
      ]
    },
    {
      "cell_type": "code",
      "metadata": {
        "id": "F4vQUtqjivUi",
        "colab_type": "code",
        "colab": {
          "base_uri": "https://localhost:8080/",
          "height": 309
        },
        "outputId": "bb72587e-1693-4f48-e708-35edd6a15dde"
      },
      "source": [
        "# the input shape is the shape of train_x not including the number of samples\n",
        "#   dimension\n",
        "input_shape = train_x.shape[1:]\n",
        "\n",
        "# create a model\n",
        "model = tf.keras.Sequential([\n",
        "  tf.keras.layers.LSTM(16, input_shape=input_shape, activation='tanh'),\n",
        "  tf.keras.layers.Dense(1)])\n",
        "\n",
        "model.compile('rmsprop', loss='mse')\n",
        "\n",
        "print(model.summary())\n"
      ],
      "execution_count": 32,
      "outputs": [
        {
          "output_type": "stream",
          "text": [
            "WARNING:tensorflow:From /usr/local/lib/python3.6/dist-packages/tensorflow_core/python/ops/resource_variable_ops.py:1630: calling BaseResourceVariable.__init__ (from tensorflow.python.ops.resource_variable_ops) with constraint is deprecated and will be removed in a future version.\n",
            "Instructions for updating:\n",
            "If using Keras pass *_constraint arguments to layers.\n",
            "Model: \"sequential\"\n",
            "_________________________________________________________________\n",
            "Layer (type)                 Output Shape              Param #   \n",
            "=================================================================\n",
            "lstm (LSTM)                  (None, 16)                1152      \n",
            "_________________________________________________________________\n",
            "dense (Dense)                (None, 1)                 17        \n",
            "=================================================================\n",
            "Total params: 1,169\n",
            "Trainable params: 1,169\n",
            "Non-trainable params: 0\n",
            "_________________________________________________________________\n",
            "None\n"
          ],
          "name": "stdout"
        }
      ]
    },
    {
      "cell_type": "code",
      "metadata": {
        "id": "a3WbHaKhc465",
        "colab_type": "code",
        "colab": {
          "base_uri": "https://localhost:8080/",
          "height": 1000
        },
        "outputId": "0bbbb978-7afa-441c-db71-8bd5c8483ad5"
      },
      "source": [
        "model.fit(train_x, train_y, epochs=20, batch_size=128)\n",
        "\n",
        "preds = model.predict(test_x)\n",
        "\n",
        "print(prices_scaler.inverse_transform(preds)[:10])\n",
        "print(prices_scaler.inverse_transform(test_y)[:10])\n"
      ],
      "execution_count": 33,
      "outputs": [
        {
          "output_type": "stream",
          "text": [
            "WARNING:tensorflow:From /usr/local/lib/python3.6/dist-packages/tensorflow_core/python/ops/math_grad.py:1424: where (from tensorflow.python.ops.array_ops) is deprecated and will be removed in a future version.\n",
            "Instructions for updating:\n",
            "Use tf.where in 2.0, which has the same broadcast rule as np.where\n",
            "Train on 1249 samples\n",
            "Epoch 1/20\n",
            "1249/1249 [==============================] - 1s 1ms/sample - loss: 0.0268\n",
            "Epoch 2/20\n",
            "1249/1249 [==============================] - 0s 43us/sample - loss: 0.0129\n",
            "Epoch 3/20\n",
            "1249/1249 [==============================] - 0s 43us/sample - loss: 0.0082\n",
            "Epoch 4/20\n",
            "1249/1249 [==============================] - 0s 43us/sample - loss: 0.0054\n",
            "Epoch 5/20\n",
            "1249/1249 [==============================] - 0s 60us/sample - loss: 0.0029\n",
            "Epoch 6/20\n",
            "1249/1249 [==============================] - 0s 50us/sample - loss: 0.0011\n",
            "Epoch 7/20\n",
            "1249/1249 [==============================] - 0s 53us/sample - loss: 3.3069e-04\n",
            "Epoch 8/20\n",
            "1249/1249 [==============================] - 0s 58us/sample - loss: 1.6675e-04\n",
            "Epoch 9/20\n",
            "1249/1249 [==============================] - 0s 46us/sample - loss: 1.7055e-04\n",
            "Epoch 10/20\n",
            "1249/1249 [==============================] - 0s 46us/sample - loss: 1.4731e-04\n",
            "Epoch 11/20\n",
            "1249/1249 [==============================] - 0s 62us/sample - loss: 1.5229e-04\n",
            "Epoch 12/20\n",
            "1249/1249 [==============================] - 0s 52us/sample - loss: 1.2854e-04\n",
            "Epoch 13/20\n",
            "1249/1249 [==============================] - 0s 53us/sample - loss: 1.2600e-04\n",
            "Epoch 14/20\n",
            "1249/1249 [==============================] - 0s 49us/sample - loss: 1.1236e-04\n",
            "Epoch 15/20\n",
            "1249/1249 [==============================] - 0s 50us/sample - loss: 1.0886e-04\n",
            "Epoch 16/20\n",
            "1249/1249 [==============================] - 0s 47us/sample - loss: 9.9228e-05\n",
            "Epoch 17/20\n",
            "1249/1249 [==============================] - 0s 47us/sample - loss: 1.1075e-04\n",
            "Epoch 18/20\n",
            "1249/1249 [==============================] - 0s 46us/sample - loss: 7.2939e-05\n",
            "Epoch 19/20\n",
            "1249/1249 [==============================] - 0s 48us/sample - loss: 9.1686e-05\n",
            "Epoch 20/20\n",
            "1249/1249 [==============================] - 0s 44us/sample - loss: 8.2428e-05\n",
            "(313, 1)\n",
            "[[0.76508534]\n",
            " [0.11355942]\n",
            " [0.13644008]\n",
            " [0.05900515]\n",
            " [0.05538851]\n",
            " [0.19822758]\n",
            " [0.02113038]\n",
            " [0.08365094]\n",
            " [0.16483438]\n",
            " [0.12736426]]\n",
            "[[0.74890686]\n",
            " [0.10685893]\n",
            " [0.12912684]\n",
            " [0.05129121]\n",
            " [0.04541812]\n",
            " [0.19882658]\n",
            " [0.0115451 ]\n",
            " [0.07630509]\n",
            " [0.16093213]\n",
            " [0.12427112]]\n"
          ],
          "name": "stdout"
        }
      ]
    },
    {
      "cell_type": "code",
      "metadata": {
        "id": "MMv_qMXsimOG",
        "colab_type": "code",
        "colab": {}
      },
      "source": [
        ""
      ],
      "execution_count": 0,
      "outputs": []
    }
  ]
}